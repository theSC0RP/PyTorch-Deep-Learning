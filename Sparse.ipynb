{
  "nbformat": 4,
  "nbformat_minor": 0,
  "metadata": {
    "colab": {
      "name": "Sparse.ipynb",
      "provenance": [],
      "collapsed_sections": [],
      "include_colab_link": true
    },
    "kernelspec": {
      "name": "python3",
      "display_name": "Python 3"
    },
    "accelerator": "GPU"
  },
  "cells": [
    {
      "cell_type": "markdown",
      "metadata": {
        "id": "view-in-github",
        "colab_type": "text"
      },
      "source": [
        "<a href=\"https://colab.research.google.com/github/theSC0RP/PyTorch-Deep-Learning/blob/master/Sparse.ipynb\" target=\"_parent\"><img src=\"https://colab.research.google.com/assets/colab-badge.svg\" alt=\"Open In Colab\"/></a>"
      ]
    },
    {
      "cell_type": "code",
      "metadata": {
        "id": "g11pxvTR_Wcs",
        "colab_type": "code",
        "colab": {}
      },
      "source": [
        "import torch\n",
        "from torchvision import transforms, datasets"
      ],
      "execution_count": 0,
      "outputs": []
    },
    {
      "cell_type": "code",
      "metadata": {
        "id": "BuYTKxV3E1h1",
        "colab_type": "code",
        "outputId": "11399e55-d2fa-47dc-82ae-bfe1fd09dce9",
        "colab": {
          "base_uri": "https://localhost:8080/",
          "height": 275
        }
      },
      "source": [
        "transform = transforms.Compose([transforms.ToTensor(), transforms.Normalize((0.5,), (0.5,))])\n",
        "\n",
        "trainset = datasets.MNIST('~/.pytorch/MNIST_data/', download=True, train=True, transform=transform)\n",
        "trainloader = torch.utils.data.DataLoader(trainset, batch_size=64, shuffle=True)\n",
        "\n",
        "testset = datasets.MNIST('~/.pytorch/MNIST_data/', download=True, train=False, transform=transform)\n",
        "testloader = torch.utils.data.DataLoader(testset, batch_size=64, shuffle=True)"
      ],
      "execution_count": 2,
      "outputs": [
        {
          "output_type": "stream",
          "text": [
            "  0%|          | 0/9912422 [00:00<?, ?it/s]"
          ],
          "name": "stderr"
        },
        {
          "output_type": "stream",
          "text": [
            "Downloading http://yann.lecun.com/exdb/mnist/train-images-idx3-ubyte.gz to /root/.pytorch/MNIST_data/MNIST/raw/train-images-idx3-ubyte.gz\n"
          ],
          "name": "stdout"
        },
        {
          "output_type": "stream",
          "text": [
            "9920512it [00:00, 20896379.07it/s]                            \n"
          ],
          "name": "stderr"
        },
        {
          "output_type": "stream",
          "text": [
            "Extracting /root/.pytorch/MNIST_data/MNIST/raw/train-images-idx3-ubyte.gz to /root/.pytorch/MNIST_data/MNIST/raw\n"
          ],
          "name": "stdout"
        },
        {
          "output_type": "stream",
          "text": [
            "32768it [00:00, 328736.84it/s]\n",
            "0it [00:00, ?it/s]"
          ],
          "name": "stderr"
        },
        {
          "output_type": "stream",
          "text": [
            "Downloading http://yann.lecun.com/exdb/mnist/train-labels-idx1-ubyte.gz to /root/.pytorch/MNIST_data/MNIST/raw/train-labels-idx1-ubyte.gz\n",
            "Extracting /root/.pytorch/MNIST_data/MNIST/raw/train-labels-idx1-ubyte.gz to /root/.pytorch/MNIST_data/MNIST/raw\n",
            "Downloading http://yann.lecun.com/exdb/mnist/t10k-images-idx3-ubyte.gz to /root/.pytorch/MNIST_data/MNIST/raw/t10k-images-idx3-ubyte.gz\n"
          ],
          "name": "stdout"
        },
        {
          "output_type": "stream",
          "text": [
            "1654784it [00:00, 5332272.47it/s]                           \n",
            "8192it [00:00, 131360.13it/s]\n"
          ],
          "name": "stderr"
        },
        {
          "output_type": "stream",
          "text": [
            "Extracting /root/.pytorch/MNIST_data/MNIST/raw/t10k-images-idx3-ubyte.gz to /root/.pytorch/MNIST_data/MNIST/raw\n",
            "Downloading http://yann.lecun.com/exdb/mnist/t10k-labels-idx1-ubyte.gz to /root/.pytorch/MNIST_data/MNIST/raw/t10k-labels-idx1-ubyte.gz\n",
            "Extracting /root/.pytorch/MNIST_data/MNIST/raw/t10k-labels-idx1-ubyte.gz to /root/.pytorch/MNIST_data/MNIST/raw\n",
            "Processing...\n",
            "Done!\n"
          ],
          "name": "stdout"
        }
      ]
    },
    {
      "cell_type": "code",
      "metadata": {
        "id": "r0o8N4eKKwvA",
        "colab_type": "code",
        "outputId": "1eef1e7f-f0d8-42fe-e321-925f39df51aa",
        "colab": {
          "base_uri": "https://localhost:8080/",
          "height": 34
        }
      },
      "source": [
        "trainset.data.size()"
      ],
      "execution_count": 3,
      "outputs": [
        {
          "output_type": "execute_result",
          "data": {
            "text/plain": [
              "torch.Size([60000, 28, 28])"
            ]
          },
          "metadata": {
            "tags": []
          },
          "execution_count": 3
        }
      ]
    },
    {
      "cell_type": "code",
      "metadata": {
        "id": "hYVG9YrsK3XD",
        "colab_type": "code",
        "outputId": "6d3f6121-e4ef-44cd-a199-fda88fed510b",
        "colab": {
          "base_uri": "https://localhost:8080/",
          "height": 34
        }
      },
      "source": [
        "testset.data.size()"
      ],
      "execution_count": 4,
      "outputs": [
        {
          "output_type": "execute_result",
          "data": {
            "text/plain": [
              "torch.Size([10000, 28, 28])"
            ]
          },
          "metadata": {
            "tags": []
          },
          "execution_count": 4
        }
      ]
    },
    {
      "cell_type": "code",
      "metadata": {
        "id": "KLxvIM0qLcu9",
        "colab_type": "code",
        "colab": {}
      },
      "source": [
        "images, labels = next(iter(trainloader))"
      ],
      "execution_count": 0,
      "outputs": []
    },
    {
      "cell_type": "code",
      "metadata": {
        "id": "Cbr91hVfMJwJ",
        "colab_type": "code",
        "outputId": "e8cbccaf-bd25-4558-b429-0feea8e488c4",
        "colab": {
          "base_uri": "https://localhost:8080/",
          "height": 495
        }
      },
      "source": [
        "import matplotlib.pyplot as plt\n",
        "\n",
        "plt.figure(figsize = (20, 8))\n",
        "for i in range(10):\n",
        "  print(labels[i], end = \" \")\n",
        "  plt.subplot(2, 5, i+1)\n",
        "  plt.imshow(images[i].squeeze(), 'gray')"
      ],
      "execution_count": 6,
      "outputs": [
        {
          "output_type": "stream",
          "text": [
            "tensor(4) tensor(0) tensor(2) tensor(6) tensor(1) tensor(0) tensor(6) tensor(3) tensor(6) tensor(2) "
          ],
          "name": "stdout"
        },
        {
          "output_type": "display_data",
          "data": {
            "image/png": "[encoded data removed]",
            "text/plain": [
              "<Figure size 1440x576 with 10 Axes>"
            ]
          },
          "metadata": {
            "tags": []
          }
        }
      ]
    },
    {
      "cell_type": "code",
      "metadata": {
        "id": "uvL-bxsxMZat",
        "colab_type": "code",
        "colab": {}
      },
      "source": [
        "\n",
        "from torch import nn\n",
        "from torch.nn import Linear, ReLU, LogSoftmax\n",
        "def initNet():\n",
        "  class Network(nn.Module):\n",
        "    def __init__(self):\n",
        "      super(Network, self).__init__()\n",
        "\n",
        "      self.hidden1 = Linear(28 * 28, 1000, bias=False)\n",
        "      self.hidden2 = Linear(1000, 1000, bias=False)\n",
        "      self.hidden3 = Linear(1000, 500, bias=False)\n",
        "      self.hidden4 = Linear(500, 200, bias=False)\n",
        "      self.output = Linear(200, 10, bias=False)\n",
        "\n",
        "      self.relu = ReLU()\n",
        "      self.log_softmax = LogSoftmax(dim = 1)\n",
        "\n",
        "    def forward(self, x):\n",
        "      x = self.relu(self.hidden1(x))\n",
        "      x = self.relu(self.hidden2(x))\n",
        "      x = self.relu(self.hidden3(x))\n",
        "      x = self.relu(self.hidden4(x))\n",
        "      x = self.log_softmax(self.output(x)) \n",
        "\n",
        "      return x \n",
        "\n",
        "  model = Network()\n",
        "  model = model.to('cuda')\n",
        "  model = nn.DataParallel(model)\n",
        "\n",
        "  return model"
      ],
      "execution_count": 0,
      "outputs": []
    },
    {
      "cell_type": "code",
      "metadata": {
        "id": "0uBSjNCJBGHx",
        "colab_type": "code",
        "colab": {}
      },
      "source": [
        "model = initNet()"
      ],
      "execution_count": 0,
      "outputs": []
    },
    {
      "cell_type": "code",
      "metadata": {
        "id": "--vrkaXWAmuI",
        "colab_type": "code",
        "colab": {}
      },
      "source": [
        "learning_rate = 0.003\n",
        "num_epochs = 10\n",
        "\n",
        "criterion = nn.NLLLoss() \n",
        "optimizer = torch.optim.Adam(model.parameters(), lr = learning_rate)"
      ],
      "execution_count": 0,
      "outputs": []
    },
    {
      "cell_type": "code",
      "metadata": {
        "id": "AEbY_fE6R0QC",
        "colab_type": "code",
        "colab": {}
      },
      "source": [
        "def train():\n",
        "  for e in range(num_epochs):\n",
        "    running_loss = 0\n",
        "    correct = 0\n",
        "    for images, labels in trainloader:\n",
        "      images = images.view(images.shape[0], -1)\n",
        "      images = images.to('cuda')\n",
        "      labels = labels.to('cuda')\n",
        "\n",
        "      outputs = model(images)\n",
        "      loss = criterion(outputs, labels)\n",
        "      (max_vals, arg_maxs) = torch.max(outputs.data, dim=1)\n",
        "      correct += torch.sum(labels == arg_maxs)\n",
        "\n",
        "      optimizer.zero_grad()\n",
        "      loss.backward()\n",
        "      optimizer.step()\n",
        "\n",
        "      running_loss += loss.item()"
      ],
      "execution_count": 0,
      "outputs": []
    },
    {
      "cell_type": "code",
      "metadata": {
        "id": "6opRAkxGaOHM",
        "colab_type": "code",
        "colab": {}
      },
      "source": [
        "def test():\n",
        "  correct = 0\n",
        "  with torch.no_grad():\n",
        "    for images, labels in testloader:\n",
        "      images = images.view(images.shape[0], -1)\n",
        "      images = images.to('cuda')\n",
        "      labels = labels.to('cuda')\n",
        "\n",
        "      outputs = model(images)\n",
        "      loss = criterion(outputs, labels)\n",
        "      (max_vals, arg_maxs) = torch.max(outputs.data, dim=1)\n",
        "      correct += torch.sum(labels == arg_maxs)\n",
        "\n",
        "  return correct.item()/100.0"
      ],
      "execution_count": 0,
      "outputs": []
    },
    {
      "cell_type": "markdown",
      "metadata": {
        "id": "K0GXPd-A-d40",
        "colab_type": "text"
      },
      "source": [
        "# Weight Pruning"
      ]
    },
    {
      "cell_type": "code",
      "metadata": {
        "id": "MWgngk5iAIcP",
        "colab_type": "code",
        "colab": {}
      },
      "source": [
        "train()"
      ],
      "execution_count": 0,
      "outputs": []
    },
    {
      "cell_type": "code",
      "metadata": {
        "id": "CGPIoIBn-_Au",
        "colab_type": "code",
        "colab": {}
      },
      "source": [
        "k_list = [0, .25, .50, .60, .70, .80, .90, .95, .97, .99]"
      ],
      "execution_count": 0,
      "outputs": []
    },
    {
      "cell_type": "code",
      "metadata": {
        "id": "9uTpOAUL-eai",
        "colab_type": "code",
        "colab": {}
      },
      "source": [
        "def pruneLayerWeights(layer_weights, thresh):\n",
        "  for i in range(layer_weights.shape[0]):\n",
        "    for j in range(layer_weights.shape[1]):\n",
        "      if abs(layer_weights[i][j]) <= thresh:\n",
        "        layer_weights[i][j] = 0"
      ],
      "execution_count": 0,
      "outputs": []
    },
    {
      "cell_type": "code",
      "metadata": {
        "id": "7Uv5eKauv-5U",
        "colab_type": "code",
        "colab": {}
      },
      "source": [
        "def getThreshs(w):\n",
        "  vals = abs(w.cpu().flatten()).sort().values\n",
        "  print(vals.shape)\n",
        "  threshs = [round(vals[int(vals.shape[0] * k)].item(), 4) for k in k_list]\n",
        "  return threshs"
      ],
      "execution_count": 0,
      "outputs": []
    },
    {
      "cell_type": "code",
      "metadata": {
        "id": "X5tpf8zUqmRv",
        "colab_type": "code",
        "outputId": "0490d452-2959-4522-95b4-bb17a82f3f73",
        "colab": {
          "base_uri": "https://localhost:8080/",
          "height": 153
        }
      },
      "source": [
        "w1 = model.module.hidden1.weight.data\n",
        "t1 = getThreshs(w1)\n",
        "print(t1)\n",
        "\n",
        "w2 = model.module.hidden2.weight.data\n",
        "t2 = getThreshs(w2)\n",
        "print(t2)\n",
        "\n",
        "w3 = model.module.hidden3.weight.data\n",
        "t3 = getThreshs(w3)\n",
        "print(t3)\n",
        "\n",
        "w4 = model.module.hidden4.weight.data\n",
        "t4 = getThreshs(w4)\n",
        "print(t4)"
      ],
      "execution_count": 16,
      "outputs": [
        {
          "output_type": "stream",
          "text": [
            "torch.Size([784000])\n",
            "[0.0, 0.0092, 0.019, 0.0248, 0.0319, 0.0393, 0.0472, 0.0523, 0.0623, 0.2276]\n",
            "torch.Size([1000000])\n",
            "[0.0, 0.0081, 0.0177, 0.0232, 0.0288, 0.0355, 0.0433, 0.0478, 0.0514, 0.1626]\n",
            "torch.Size([500000])\n",
            "[0.0, 0.0119, 0.0283, 0.037, 0.0473, 0.0791, 0.1468, 0.2206, 0.2766, 0.396]\n",
            "torch.Size([100000])\n",
            "[0.0, 0.0175, 0.0378, 0.0491, 0.0642, 0.0973, 0.1524, 0.2083, 0.2503, 0.3417]\n"
          ],
          "name": "stdout"
        }
      ]
    },
    {
      "cell_type": "code",
      "metadata": {
        "id": "A6j-1e_J1Za6",
        "colab_type": "code",
        "outputId": "eaf6dee2-ff73-46fe-a7ff-a8bf23515080",
        "colab": {
          "base_uri": "https://localhost:8080/",
          "height": 187
        }
      },
      "source": [
        "test_accs = [test()]\n",
        "print(test_accs)\n",
        "for i in range(1, len(k_list)):\n",
        "  pruneLayerWeights(w1, t1[i])\n",
        "  pruneLayerWeights(w2, t2[i])\n",
        "  pruneLayerWeights(w3, t3[i])\n",
        "  pruneLayerWeights(w4, t4[i])\n",
        "\n",
        "  test_i_acc = test()\n",
        "  print(test_i_acc)\n",
        "  test_accs.append(test_i_acc)"
      ],
      "execution_count": 17,
      "outputs": [
        {
          "output_type": "stream",
          "text": [
            "[96.41]\n",
            "96.49\n",
            "96.54\n",
            "96.65\n",
            "96.6\n",
            "96.56\n",
            "96.37\n",
            "94.7\n",
            "79.22\n",
            "21.57\n"
          ],
          "name": "stdout"
        }
      ]
    },
    {
      "cell_type": "code",
      "metadata": {
        "id": "o-j8VPhJRBrA",
        "colab_type": "code",
        "colab": {
          "base_uri": "https://localhost:8080/",
          "height": 282
        },
        "outputId": "4c50e356-a241-41e8-9a85-012d9e82fa0e"
      },
      "source": [
        "import matplotlib.pyplot as plt\n",
        "plt.plot(test_accs, k_list)"
      ],
      "execution_count": 18,
      "outputs": [
        {
          "output_type": "execute_result",
          "data": {
            "text/plain": [
              "[<matplotlib.lines.Line2D at 0x7f508a0b9358>]"
            ]
          },
          "metadata": {
            "tags": []
          },
          "execution_count": 18
        },
        {
          "output_type": "display_data",
          "data": {
            "image/png": "[encoded data removed]",
            "text/plain": [
              "<Figure size 432x288 with 1 Axes>"
            ]
          },
          "metadata": {
            "tags": []
          }
        }
      ]
    },
    {
      "cell_type": "markdown",
      "metadata": {
        "id": "KcpQnOZj-u6C",
        "colab_type": "text"
      },
      "source": [
        "# Node Pruning"
      ]
    },
    {
      "cell_type": "code",
      "metadata": {
        "id": "nz7-6Gj_ByQz",
        "colab_type": "code",
        "colab": {}
      },
      "source": [
        "model = initNet()"
      ],
      "execution_count": 0,
      "outputs": []
    },
    {
      "cell_type": "code",
      "metadata": {
        "id": "7dmuDWbBB0ll",
        "colab_type": "code",
        "colab": {}
      },
      "source": [
        "learning_rate = 0.003\n",
        "num_epochs = 10\n",
        "\n",
        "criterion = nn.NLLLoss() \n",
        "optimizer = torch.optim.Adam(model.parameters(), lr = learning_rate)"
      ],
      "execution_count": 0,
      "outputs": []
    },
    {
      "cell_type": "code",
      "metadata": {
        "id": "-BqGKH8EACzw",
        "colab_type": "code",
        "colab": {}
      },
      "source": [
        "train()"
      ],
      "execution_count": 0,
      "outputs": []
    },
    {
      "cell_type": "code",
      "metadata": {
        "id": "57-7cQruLcPz",
        "colab_type": "code",
        "colab": {}
      },
      "source": [
        "k_list = [0, .25, .50, .60, .70, .80, .90, .95, .97, .99]"
      ],
      "execution_count": 0,
      "outputs": []
    },
    {
      "cell_type": "code",
      "metadata": {
        "id": "MnlxjABnBc7E",
        "colab_type": "code",
        "colab": {}
      },
      "source": [
        "def getL2Dicts(w):\n",
        "\td = {}\n",
        "\tfor i in range(w.shape[1]):\n",
        "\t\td[i] = torch.sum(w[:, i] ** 2)\n",
        "\tlist_sorted_dict_tuples = sorted(d.items(), key=lambda x: x[1])\n",
        "\treturn list_sorted_dict_tuples"
      ],
      "execution_count": 0,
      "outputs": []
    },
    {
      "cell_type": "code",
      "metadata": {
        "id": "VWH6Q7JxEwNJ",
        "colab_type": "code",
        "colab": {}
      },
      "source": [
        "def getL2Threshs(list_tuples):\n",
        "  threshs = []\n",
        "  for k in k_list:\n",
        "    thresh = list_tuples[int(len(list_tuples) * k)][1]\n",
        "    threshs.append(thresh)\n",
        "  return threshs"
      ],
      "execution_count": 0,
      "outputs": []
    },
    {
      "cell_type": "code",
      "metadata": {
        "id": "y3uRcUnPFoDO",
        "colab_type": "code",
        "colab": {}
      },
      "source": [
        "def getColIndices(list_tuples, thresh):\n",
        "  indices = []\n",
        "  for tup in list_tuples:\n",
        "    if tup[1] <= thresh:\n",
        "      indices.append(tup[0])\n",
        "    else:\n",
        "      break\n",
        "  return indices"
      ],
      "execution_count": 0,
      "outputs": []
    },
    {
      "cell_type": "code",
      "metadata": {
        "id": "sprs2zXiGopL",
        "colab_type": "code",
        "colab": {}
      },
      "source": [
        "def pruneCols(w, indices):\n",
        "\tfor i in indices:\n",
        "\t\tw[:, i] = 0"
      ],
      "execution_count": 0,
      "outputs": []
    },
    {
      "cell_type": "code",
      "metadata": {
        "id": "foK1MYXdHMi0",
        "colab_type": "code",
        "colab": {}
      },
      "source": [
        "w1 = model.module.hidden1.weight.data\n",
        "w2 = model.module.hidden2.weight.data\n",
        "w3 = model.module.hidden3.weight.data\n",
        "w4 = model.module.hidden4.weight.data\n",
        "\n",
        "weights = [w1, w2, w3, w4]\n",
        "list_list_tuples, list_threshs, list_indices = [], [], []\n",
        "for w in weights:\n",
        "  list_tups = getL2Dicts(w)\n",
        "  list_list_tuples.append(list_tups)\n",
        "\n",
        "  list_threshs.append(getL2Threshs(list_tups))"
      ],
      "execution_count": 0,
      "outputs": []
    },
    {
      "cell_type": "code",
      "metadata": {
        "id": "DymFny3KGyky",
        "colab_type": "code",
        "outputId": "7b8d468d-2deb-4962-f93c-d50ce5d892cb",
        "colab": {
          "base_uri": "https://localhost:8080/",
          "height": 187
        }
      },
      "source": [
        "node_test_accs = [test()]\n",
        "print(node_test_accs)\n",
        "\n",
        "for i in range(1, len(k_list)):\n",
        "  for j in range(4):\n",
        "    cols = getColIndices(list_list_tuples[j], list_threshs[j][i])\n",
        "    pruneCols(weights[j], cols)\n",
        "\n",
        "  acc = test()\n",
        "  print(acc)\n",
        "  node_test_accs.append(acc)"
      ],
      "execution_count": 28,
      "outputs": [
        {
          "output_type": "stream",
          "text": [
            "[96.77]\n",
            "89.47\n",
            "70.7\n",
            "65.68\n",
            "67.86\n",
            "62.22\n",
            "42.51\n",
            "25.58\n",
            "22.58\n",
            "11.23\n"
          ],
          "name": "stdout"
        }
      ]
    },
    {
      "cell_type": "code",
      "metadata": {
        "id": "EKiCAvT1QViN",
        "colab_type": "code",
        "outputId": "02e33c5c-fe49-45b6-b586-20886dff6874",
        "colab": {
          "base_uri": "https://localhost:8080/",
          "height": 282
        }
      },
      "source": [
        "import matplotlib.pyplot as plt\n",
        "plt.plot(node_test_accs, k_list)"
      ],
      "execution_count": 29,
      "outputs": [
        {
          "output_type": "execute_result",
          "data": {
            "text/plain": [
              "[<matplotlib.lines.Line2D at 0x7f5089c2a2e8>]"
            ]
          },
          "metadata": {
            "tags": []
          },
          "execution_count": 29
        },
        {
          "output_type": "display_data",
          "data": {
            "image/png": "[encoded data removed]",
            "text/plain": [
              "<Figure size 432x288 with 1 Axes>"
            ]
          },
          "metadata": {
            "tags": []
          }
        }
      ]
    },
    {
      "cell_type": "code",
      "metadata": {
        "id": "opQf44yJfoZJ",
        "colab_type": "code",
        "colab": {}
      },
      "source": [
        ""
      ],
      "execution_count": 0,
      "outputs": []
    }
  ]
}