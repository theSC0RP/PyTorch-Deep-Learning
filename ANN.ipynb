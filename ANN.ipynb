{
  "nbformat": 4,
  "nbformat_minor": 0,
  "metadata": {
    "colab": {
      "name": "ANN Pytorch.ipynb",
      "provenance": [],
      "collapsed_sections": [],
      "include_colab_link": true
    },
    "kernelspec": {
      "name": "python3",
      "display_name": "Python 3"
    },
    "accelerator": "GPU"
  },
  "cells": [
    {
      "cell_type": "markdown",
      "metadata": {
        "id": "view-in-github",
        "colab_type": "text"
      },
      "source": [
        "<a href=\"https://colab.research.google.com/github/theSC0RP/PyTorch-Deep-Learning/blob/master/ANN_Pytorch.ipynb\" target=\"_parent\"><img src=\"https://colab.research.google.com/assets/colab-badge.svg\" alt=\"Open In Colab\"/></a>"
      ]
    },
    {
      "cell_type": "code",
      "metadata": {
        "id": "nn_Mr9JyOwZZ",
        "colab_type": "code",
        "colab": {}
      },
      "source": [
        "import pandas as pd\n",
        "import torch\n",
        "from torchvision import datasets, transforms"
      ],
      "execution_count": 0,
      "outputs": []
    },
    {
      "cell_type": "code",
      "metadata": {
        "id": "1ETGvDjO_Exi",
        "colab_type": "code",
        "colab": {}
      },
      "source": [
        "# Define a transform to normalize the data\n",
        "transform = transforms.Compose([transforms.ToTensor(), transforms.Normalize((0.5,), (0.5,))])\n",
        "# Download and load the training data\n",
        "trainset = datasets.FashionMNIST('~/.pytorch/F_MNIST_data/', download=True, train=True, transform=transform)\n",
        "trainloader = torch.utils.data.DataLoader(trainset, batch_size=64, shuffle=True)\n",
        "\n",
        "# Download and load the test data\n",
        "testset = datasets.FashionMNIST('~/.pytorch/F_MNIST_data/', download=True, train=False, transform=transform)\n",
        "testloader = torch.utils.data.DataLoader(testset, batch_size=64, shuffle=True)"
      ],
      "execution_count": 0,
      "outputs": []
    },
    {
      "cell_type": "code",
      "metadata": {
        "id": "WCZFMjkKqnLc",
        "colab_type": "code",
        "colab": {
          "base_uri": "https://localhost:8080/",
          "height": 35
        },
        "outputId": "6ada506b-b2e9-46a5-aa57-8517b361bcdd"
      },
      "source": [
        "trainset.data.shape"
      ],
      "execution_count": 20,
      "outputs": [
        {
          "output_type": "execute_result",
          "data": {
            "text/plain": [
              "torch.Size([60000, 28, 28])"
            ]
          },
          "metadata": {
            "tags": []
          },
          "execution_count": 20
        }
      ]
    },
    {
      "cell_type": "code",
      "metadata": {
        "id": "-fWdPstr3OrU",
        "colab_type": "code",
        "colab": {}
      },
      "source": [
        "image, label = next(iter(trainloader))"
      ],
      "execution_count": 0,
      "outputs": []
    },
    {
      "cell_type": "code",
      "metadata": {
        "colab_type": "code",
        "outputId": "ec315776-0110-48e0-894f-6d5036003634",
        "id": "c1nPYwC_2lzC",
        "colab": {
          "base_uri": "https://localhost:8080/",
          "height": 35
        }
      },
      "source": [
        "image.shape"
      ],
      "execution_count": 6,
      "outputs": [
        {
          "output_type": "execute_result",
          "data": {
            "text/plain": [
              "torch.Size([64, 1, 28, 28])"
            ]
          },
          "metadata": {
            "tags": []
          },
          "execution_count": 6
        }
      ]
    },
    {
      "cell_type": "code",
      "metadata": {
        "id": "qESQjRIuD7Pi",
        "colab_type": "code",
        "colab": {}
      },
      "source": [
        "im2 = image[0][0]"
      ],
      "execution_count": 0,
      "outputs": []
    },
    {
      "cell_type": "code",
      "metadata": {
        "id": "lzZwgCzN3Kba",
        "colab_type": "code",
        "outputId": "491bfab0-c1c4-402e-82c3-89e32aba790f",
        "colab": {
          "base_uri": "https://localhost:8080/",
          "height": 283
        }
      },
      "source": [
        "import matplotlib.pyplot as plt\n",
        "plt.imshow(im2, 'gray')"
      ],
      "execution_count": 8,
      "outputs": [
        {
          "output_type": "execute_result",
          "data": {
            "text/plain": [
              "<matplotlib.image.AxesImage at 0x7fe0a16736a0>"
            ]
          },
          "metadata": {
            "tags": []
          },
          "execution_count": 8
        },
        {
          "output_type": "display_data",
          "data": {
            "image/png": "[encoded data removed]",
            "text/plain": [
              "<Figure size 432x288 with 1 Axes>"
            ]
          },
          "metadata": {
            "tags": []
          }
        }
      ]
    },
    {
      "cell_type": "code",
      "metadata": {
        "id": "rhypAzq83qfS",
        "colab_type": "code",
        "outputId": "2b01e4e2-62f2-450e-ae9f-adfb561e9b22",
        "colab": {
          "base_uri": "https://localhost:8080/",
          "height": 35
        }
      },
      "source": [
        "label[0]"
      ],
      "execution_count": 9,
      "outputs": [
        {
          "output_type": "execute_result",
          "data": {
            "text/plain": [
              "tensor(4)"
            ]
          },
          "metadata": {
            "tags": []
          },
          "execution_count": 9
        }
      ]
    },
    {
      "cell_type": "code",
      "metadata": {
        "id": "WXQe6IH64E-t",
        "colab_type": "code",
        "colab": {}
      },
      "source": [
        "from torch import nn\n",
        "\n",
        "class ANN(nn.Module):\n",
        "  def __init__(self):\n",
        "    super(ANN, self).__init__()\n",
        "\n",
        "    self.hidden1 = nn.Linear(784, 64)\n",
        "    self.hidden2 = nn.Linear(64, 32)\n",
        "    self.output = nn.Linear(32, 10)\n",
        "    \n",
        "    self.relu = nn.ReLU()\n",
        "    self.log_softmax = nn.LogSoftmax(dim = 1)\n",
        "\n",
        "  def forward(self, x):\n",
        "    x = self.hidden1(x)\n",
        "    x = self.relu(x)\n",
        "    x = self.hidden2(x)\n",
        "    x = self.relu(x)\n",
        "    x = self.output(x)\n",
        "    x = self.log_softmax(x)\n",
        "\n",
        "    return x"
      ],
      "execution_count": 0,
      "outputs": []
    },
    {
      "cell_type": "code",
      "metadata": {
        "id": "OP4jXBdgazFy",
        "colab_type": "code",
        "colab": {}
      },
      "source": [
        "model = ANN()"
      ],
      "execution_count": 0,
      "outputs": []
    },
    {
      "cell_type": "code",
      "metadata": {
        "id": "Bqin4ux8AwBh",
        "colab_type": "code",
        "colab": {}
      },
      "source": [
        "learning_rate = 0.003\n",
        "num_epochs = 20\n",
        "\n",
        "criterion = nn.NLLLoss()\n",
        "optimizer = torch.optim.SGD(model.parameters(), lr = learning_rate)"
      ],
      "execution_count": 0,
      "outputs": []
    },
    {
      "cell_type": "code",
      "metadata": {
        "id": "_qHc3Dxhar5k",
        "colab_type": "code",
        "outputId": "0997b1d8-bd23-4ca5-b5e1-5fd70a66d7aa",
        "colab": {
          "base_uri": "https://localhost:8080/",
          "height": 372
        }
      },
      "source": [
        "for e in range(num_epochs):\n",
        "  correct = 0\n",
        "  running_loss = 0\n",
        "  for i, (image, labels) in enumerate(trainloader):\n",
        "    image = image.view(image.shape[0], -1)\n",
        "\n",
        "    # Forward Pass\n",
        "    outputs = model(image)\n",
        "    loss = criterion(outputs, labels)\n",
        "    (max_vals, arg_maxs) = torch.max(outputs.data, dim=1)\n",
        "    correct += torch.sum(labels == arg_maxs)\n",
        "\n",
        "    # Backward Pass\n",
        "    optimizer.zero_grad()\n",
        "    loss.backward()\n",
        "    optimizer.step()\n",
        "\n",
        "    running_loss += loss.item()\n",
        "\n",
        "  print(\"{}/{} ----> loss = {:.3f}, accuracy = {:.2f}%\".format(e+1, num_epochs, running_loss/len(trainloader), correct/600.0))\n",
        "\n"
      ],
      "execution_count": 47,
      "outputs": [
        {
          "output_type": "stream",
          "text": [
            "1/20 ----> loss = 0.383, accuracy = 86.45%\n",
            "2/20 ----> loss = 0.380, accuracy = 86.60%\n",
            "3/20 ----> loss = 0.377, accuracy = 86.57%\n",
            "4/20 ----> loss = 0.374, accuracy = 86.76%\n",
            "5/20 ----> loss = 0.372, accuracy = 86.86%\n",
            "6/20 ----> loss = 0.369, accuracy = 86.92%\n",
            "7/20 ----> loss = 0.367, accuracy = 87.07%\n",
            "8/20 ----> loss = 0.364, accuracy = 87.09%\n",
            "9/20 ----> loss = 0.362, accuracy = 87.18%\n",
            "10/20 ----> loss = 0.360, accuracy = 87.33%\n",
            "11/20 ----> loss = 0.358, accuracy = 87.35%\n",
            "12/20 ----> loss = 0.355, accuracy = 87.34%\n",
            "13/20 ----> loss = 0.353, accuracy = 87.46%\n",
            "14/20 ----> loss = 0.351, accuracy = 87.54%\n",
            "15/20 ----> loss = 0.349, accuracy = 87.69%\n",
            "16/20 ----> loss = 0.347, accuracy = 87.71%\n",
            "17/20 ----> loss = 0.345, accuracy = 87.77%\n",
            "18/20 ----> loss = 0.343, accuracy = 87.87%\n",
            "19/20 ----> loss = 0.341, accuracy = 87.90%\n",
            "20/20 ----> loss = 0.340, accuracy = 87.96%\n"
          ],
          "name": "stdout"
        }
      ]
    },
    {
      "cell_type": "code",
      "metadata": {
        "id": "dBQ5yq58vaMs",
        "colab_type": "code",
        "colab": {}
      },
      "source": [
        ""
      ],
      "execution_count": 0,
      "outputs": []
    }
  ]
}
