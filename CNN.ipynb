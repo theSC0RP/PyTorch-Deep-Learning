{
  "nbformat": 4,
  "nbformat_minor": 0,
  "metadata": {
    "colab": {
      "name": "CNN.ipynb",
      "provenance": [],
      "include_colab_link": true
    },
    "kernelspec": {
      "name": "python3",
      "display_name": "Python 3"
    },
    "accelerator": "GPU"
  },
  "cells": [
    {
      "cell_type": "markdown",
      "metadata": {
        "id": "view-in-github",
        "colab_type": "text"
      },
      "source": [
        "<a href=\"https://colab.research.google.com/github/theSC0RP/PyTorch-Deep-Learning/blob/master/CNN.ipynb\" target=\"_parent\"><img src=\"https://colab.research.google.com/assets/colab-badge.svg\" alt=\"Open In Colab\"/></a>"
      ]
    },
    {
      "cell_type": "code",
      "metadata": {
        "id": "GSJX9MHY2ex8",
        "colab_type": "code",
        "colab": {}
      },
      "source": [
        "import torch\n",
        "from torchvision import datasets, transforms"
      ],
      "execution_count": 0,
      "outputs": []
    },
    {
      "cell_type": "code",
      "metadata": {
        "id": "ok2DwAM2RTzD",
        "colab_type": "code",
        "colab": {}
      },
      "source": [
        "# Define a transform to normalize the data\n",
        "transform = transforms.Compose([transforms.ToTensor(), transforms.Normalize((0.5,), (0.5,))])\n",
        "# Download and load the training data\n",
        "trainset = datasets.FashionMNIST('~/.pytorch/F_MNIST_data/', download=True, train=True, transform=transform)\n",
        "trainloader = torch.utils.data.DataLoader(trainset, batch_size=64, shuffle=True)\n",
        "\n",
        "# Download and load the test data\n",
        "testset = datasets.FashionMNIST('~/.pytorch/F_MNIST_data/', download=True, train=False, transform=transform)\n",
        "testloader = torch.utils.data.DataLoader(testset, batch_size=64, shuffle=True)"
      ],
      "execution_count": 0,
      "outputs": []
    },
    {
      "cell_type": "code",
      "metadata": {
        "id": "oVWazHzf_vnv",
        "colab_type": "code",
        "colab": {
          "base_uri": "https://localhost:8080/",
          "height": 35
        },
        "outputId": "7d834cdb-d824-4b70-98a5-896a9ad172c9"
      },
      "source": [
        "trainset.data.shape"
      ],
      "execution_count": 38,
      "outputs": [
        {
          "output_type": "execute_result",
          "data": {
            "text/plain": [
              "torch.Size([60000, 28, 28])"
            ]
          },
          "metadata": {
            "tags": []
          },
          "execution_count": 38
        }
      ]
    },
    {
      "cell_type": "code",
      "metadata": {
        "id": "zfwOqwrF_qGp",
        "colab_type": "code",
        "colab": {
          "base_uri": "https://localhost:8080/",
          "height": 35
        },
        "outputId": "6027267a-0bba-46f4-9ff6-fa07615895b5"
      },
      "source": [
        "testset.data.shape"
      ],
      "execution_count": 35,
      "outputs": [
        {
          "output_type": "execute_result",
          "data": {
            "text/plain": [
              "torch.Size([10000, 28, 28])"
            ]
          },
          "metadata": {
            "tags": []
          },
          "execution_count": 35
        }
      ]
    },
    {
      "cell_type": "code",
      "metadata": {
        "id": "spyXbk0qbEQO",
        "colab_type": "code",
        "colab": {}
      },
      "source": [
        "images, labels = next(iter(trainloader))"
      ],
      "execution_count": 0,
      "outputs": []
    },
    {
      "cell_type": "code",
      "metadata": {
        "id": "RaRQGMoKbki0",
        "colab_type": "code",
        "colab": {
          "base_uri": "https://localhost:8080/",
          "height": 283
        },
        "outputId": "26d04671-d0e4-45cc-a6c6-8c95e057f5ea"
      },
      "source": [
        "import matplotlib.pyplot as plt\n",
        "plt.imshow(images[63][0], 'gray')"
      ],
      "execution_count": 16,
      "outputs": [
        {
          "output_type": "execute_result",
          "data": {
            "text/plain": [
              "<matplotlib.image.AxesImage at 0x7fe6e2fd38d0>"
            ]
          },
          "metadata": {
            "tags": []
          },
          "execution_count": 16
        },
        {
          "output_type": "display_data",
          "data": {
            "image/png": "[encoded data removed]",
            "text/plain": [
              "<Figure size 432x288 with 1 Axes>"
            ]
          },
          "metadata": {
            "tags": []
          }
        }
      ]
    },
    {
      "cell_type": "code",
      "metadata": {
        "id": "kg0lIugD2myu",
        "colab_type": "code",
        "colab": {}
      },
      "source": [
        "from torch import nn\n",
        "from torch.nn import Conv2d, MaxPool2d, ReLU, LogSoftmax, Linear\n",
        "\n",
        "class CNN(nn.Module):\n",
        "  def __init__(self):\n",
        "    super(CNN, self).__init__()\n",
        "    self.conv1 = Conv2d(1, 8, kernel_size=3, padding = 1)\n",
        "    self.conv2 = Conv2d(8, 16, kernel_size=3, padding=1)\n",
        "    self.pool = MaxPool2d(2)\n",
        "\n",
        "    self.relu = ReLU()\n",
        "    \n",
        "    self.fc1 = Linear(7*7*16, 128)\n",
        "    self.fc2 = Linear(128, 64)\n",
        "    self.output = Linear(64, 10)\n",
        "\n",
        "    self.log_softmax = LogSoftmax(1)\n",
        "\n",
        "  def forward(self, x):\n",
        "    # Convolution layers\n",
        "    x = self.pool(self.relu(self.conv1(x)))\n",
        "    x = self.pool(self.relu(self.conv2(x)))\n",
        "\n",
        "    # Flatten\n",
        "    x = x.view(-1, 16 * 7 * 7)\n",
        "\n",
        "    # Fully Connected Layers\n",
        "    x = self.relu(self.fc1(x))\n",
        "    x = self.relu(self.fc2(x))\n",
        "    x = self.log_softmax(self.output(x))\n",
        "\n",
        "    return x"
      ],
      "execution_count": 0,
      "outputs": []
    },
    {
      "cell_type": "code",
      "metadata": {
        "id": "lH5RcjcCmzjN",
        "colab_type": "code",
        "colab": {}
      },
      "source": [
        "model = CNN()"
      ],
      "execution_count": 0,
      "outputs": []
    },
    {
      "cell_type": "code",
      "metadata": {
        "id": "GaPEychwm9vT",
        "colab_type": "code",
        "colab": {}
      },
      "source": [
        "num_epochs = 30\n",
        "learning_rate = 0.003\n",
        "\n",
        "criterion = torch.nn.NLLLoss()\n",
        "optimizer = torch.optim.SGD(model.parameters(), learning_rate)"
      ],
      "execution_count": 0,
      "outputs": []
    },
    {
      "cell_type": "code",
      "metadata": {
        "id": "VD3UD4fQodBC",
        "colab_type": "code",
        "colab": {
          "base_uri": "https://localhost:8080/",
          "height": 550
        },
        "outputId": "abfc7992-a423-4d6a-dc6e-059caee1fc01"
      },
      "source": [
        "# TRAINING THE CNN\n",
        "\n",
        "for e in range(num_epochs):\n",
        "  correct = 0\n",
        "  training_loss = 0\n",
        "  for i, (images, labels) in enumerate(trainloader):\n",
        "    \n",
        "    # forward pass\n",
        "    outputs = model(images)\n",
        "    loss = criterion(outputs, labels)\n",
        "    (max_vals, arg_maxs) = torch.max(outputs.data, dim=1)\n",
        "    correct += torch.sum(labels == arg_maxs)\n",
        "\n",
        "    #backward pass\n",
        "    optimizer.zero_grad()\n",
        "    loss.backward()\n",
        "    optimizer.step()\n",
        "\n",
        "    training_loss += loss\n",
        "  print(\"{}/{} ----> loss = {:.3f}, accuracy = {:.2f}%\".format(e+1, num_epochs, training_loss/len(trainloader), correct/600.0))"
      ],
      "execution_count": 20,
      "outputs": [
        {
          "output_type": "stream",
          "text": [
            "1/30 ----> loss = 2.170, accuracy = 36.97%\n",
            "2/30 ----> loss = 0.938, accuracy = 68.71%\n",
            "3/30 ----> loss = 0.672, accuracy = 75.06%\n",
            "4/30 ----> loss = 0.628, accuracy = 76.68%\n",
            "5/30 ----> loss = 0.597, accuracy = 77.98%\n",
            "6/30 ----> loss = 0.574, accuracy = 78.73%\n",
            "7/30 ----> loss = 0.553, accuracy = 79.52%\n",
            "8/30 ----> loss = 0.534, accuracy = 80.34%\n",
            "9/30 ----> loss = 0.518, accuracy = 80.82%\n",
            "10/30 ----> loss = 0.502, accuracy = 81.40%\n",
            "11/30 ----> loss = 0.488, accuracy = 82.04%\n",
            "12/30 ----> loss = 0.473, accuracy = 82.46%\n",
            "13/30 ----> loss = 0.461, accuracy = 82.83%\n",
            "14/30 ----> loss = 0.450, accuracy = 83.39%\n",
            "15/30 ----> loss = 0.441, accuracy = 83.76%\n",
            "16/30 ----> loss = 0.430, accuracy = 84.18%\n",
            "17/30 ----> loss = 0.421, accuracy = 84.44%\n",
            "18/30 ----> loss = 0.414, accuracy = 84.72%\n",
            "19/30 ----> loss = 0.405, accuracy = 85.11%\n",
            "20/30 ----> loss = 0.396, accuracy = 85.54%\n",
            "21/30 ----> loss = 0.391, accuracy = 85.59%\n",
            "22/30 ----> loss = 0.386, accuracy = 85.83%\n",
            "23/30 ----> loss = 0.378, accuracy = 86.09%\n",
            "24/30 ----> loss = 0.373, accuracy = 86.32%\n",
            "25/30 ----> loss = 0.367, accuracy = 86.60%\n",
            "26/30 ----> loss = 0.361, accuracy = 86.82%\n",
            "27/30 ----> loss = 0.357, accuracy = 87.05%\n",
            "28/30 ----> loss = 0.353, accuracy = 87.08%\n",
            "29/30 ----> loss = 0.349, accuracy = 87.27%\n",
            "30/30 ----> loss = 0.343, accuracy = 87.34%\n"
          ],
          "name": "stdout"
        }
      ]
    },
    {
      "cell_type": "code",
      "metadata": {
        "id": "YgH9LJx5poZ_",
        "colab_type": "code",
        "colab": {
          "base_uri": "https://localhost:8080/",
          "height": 35
        },
        "outputId": "781fee18-4b4d-4597-99c2-7887f4fc006e"
      },
      "source": [
        "# TESTING THE CNN\n",
        "with torch.no_grad():\n",
        "  correct = 0\n",
        "  for i, (images, labels) in enumerate(testloader):\n",
        "    outputs = model(images)\n",
        "    loss = criterion(outputs, labels)\n",
        "    \n",
        "    (max_vals, arg_maxs) = torch.max(outputs.data, dim = 1)\n",
        "    correct += torch.sum(arg_maxs == labels)\n",
        "  print(\"Accuracy: {:.2f} %\".format(correct / 100))"
      ],
      "execution_count": 40,
      "outputs": [
        {
          "output_type": "stream",
          "text": [
            "Accuracy: 86.00 %\n"
          ],
          "name": "stdout"
        }
      ]
    },
    {
      "cell_type": "code",
      "metadata": {
        "id": "v5akOFLM_WAO",
        "colab_type": "code",
        "colab": {}
      },
      "source": [
        ""
      ],
      "execution_count": 0,
      "outputs": []
    }
  ]
}